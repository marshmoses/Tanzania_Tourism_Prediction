{
 "cells": [
  {
   "cell_type": "code",
   "execution_count": 4,
   "metadata": {},
   "outputs": [],
   "source": [
    "\n",
    "#import necessary libraries\n",
    "import os\n",
    "import sys\n",
    "import time\n",
    "\n",
    "import requests\n",
    "import datetime\n",
    "import pandas as pd\n",
    "from datetime import datetime\n"
   ]
  },
  {
   "cell_type": "code",
   "execution_count": 5,
   "metadata": {},
   "outputs": [],
   "source": [
    "#import the data\n",
    "Train=pd.read_csv('Train.csv')\n",
    "Test=pd.read_csv('Test.csv')\n"
   ]
  },
  {
   "cell_type": "code",
   "execution_count": 6,
   "metadata": {},
   "outputs": [
    {
     "name": "stdout",
     "output_type": "stream",
     "text": [
      "          ID         country age_group        travel_with  total_female  \\\n",
      "0     tour_0      SWIZERLAND     45-64  Friends/Relatives           1.0   \n",
      "1    tour_10  UNITED KINGDOM     25-44                NaN           1.0   \n",
      "2  tour_1000  UNITED KINGDOM     25-44              Alone           0.0   \n",
      "3  tour_1002  UNITED KINGDOM     25-44             Spouse           1.0   \n",
      "4  tour_1004           CHINA      1-24                NaN           1.0   \n",
      "\n",
      "   total_male                         purpose     main_activity  \\\n",
      "0         1.0            Leisure and Holidays  Wildlife tourism   \n",
      "1         0.0            Leisure and Holidays  Cultural tourism   \n",
      "2         1.0  Visiting Friends and Relatives  Cultural tourism   \n",
      "3         1.0            Leisure and Holidays  Wildlife tourism   \n",
      "4         0.0            Leisure and Holidays  Wildlife tourism   \n",
      "\n",
      "                    info_source tour_arrangement  ... package_transport_tz  \\\n",
      "0            Friends, relatives      Independent  ...                   No   \n",
      "1                        others      Independent  ...                   No   \n",
      "2            Friends, relatives      Independent  ...                   No   \n",
      "3  Travel, agent, tour operator     Package Tour  ...                  Yes   \n",
      "4  Travel, agent, tour operator      Independent  ...                   No   \n",
      "\n",
      "  package_sightseeing package_guided_tour package_insurance night_mainland  \\\n",
      "0                  No                  No                No           13.0   \n",
      "1                  No                  No                No           14.0   \n",
      "2                  No                  No                No            1.0   \n",
      "3                 Yes                 Yes                No           11.0   \n",
      "4                  No                  No                No            7.0   \n",
      "\n",
      "  night_zanzibar payment_mode  first_trip_tz  \\\n",
      "0            0.0         Cash             No   \n",
      "1            7.0         Cash            Yes   \n",
      "2           31.0         Cash             No   \n",
      "3            0.0         Cash            Yes   \n",
      "4            4.0         Cash            Yes   \n",
      "\n",
      "                        most_impressing total_cost  \n",
      "0                       Friendly People   674602.5  \n",
      "1  Wonderful Country, Landscape, Nature  3214906.5  \n",
      "2                  Excellent Experience  3315000.0  \n",
      "3                       Friendly People  7790250.0  \n",
      "4                           No comments  1657500.0  \n",
      "\n",
      "[5 rows x 23 columns]\n"
     ]
    }
   ],
   "source": [
    "#check the first few rows of the data\n",
    "print(Train.head())\n"
   ]
  },
  {
   "cell_type": "code",
   "execution_count": 7,
   "metadata": {},
   "outputs": [
    {
     "name": "stdout",
     "output_type": "stream",
     "text": [
      "          ID         country age_group        travel_with  total_female  \\\n",
      "0     tour_1       AUSTRALIA     45-64             Spouse           1.0   \n",
      "1   tour_100    SOUTH AFRICA     25-44  Friends/Relatives           0.0   \n",
      "2  tour_1001         GERMANY     25-44  Friends/Relatives           3.0   \n",
      "3  tour_1006          CANADA    24-Jan  Friends/Relatives           2.0   \n",
      "4  tour_1009  UNITED KINGDOM     45-64  Friends/Relatives           2.0   \n",
      "\n",
      "   total_male               purpose     main_activity  \\\n",
      "0         1.0  Leisure and Holidays  Wildlife tourism   \n",
      "1         4.0              Business  Wildlife tourism   \n",
      "2         0.0  Leisure and Holidays     Beach tourism   \n",
      "3         0.0  Leisure and Holidays  Cultural tourism   \n",
      "4         2.0  Leisure and Holidays  Wildlife tourism   \n",
      "\n",
      "                    info_source tour_arrangement  ... package_food  \\\n",
      "0  Travel, agent, tour operator     Package Tour  ...          Yes   \n",
      "1       Tanzania Mission Abroad     Package Tour  ...           No   \n",
      "2            Friends, relatives      Independent  ...           No   \n",
      "3                        others      Independent  ...           No   \n",
      "4            Friends, relatives     Package Tour  ...          Yes   \n",
      "\n",
      "  package_transport_tz package_sightseeing package_guided_tour  \\\n",
      "0                  Yes                 Yes                 Yes   \n",
      "1                   No                  No                  No   \n",
      "2                   No                  No                  No   \n",
      "3                   No                  No                  No   \n",
      "4                  Yes                  No                  No   \n",
      "\n",
      "  package_insurance night_mainland night_zanzibar  payment_mode  \\\n",
      "0               Yes             10              3          Cash   \n",
      "1                No             13              0          Cash   \n",
      "2                No              7             14          Cash   \n",
      "3                No              0              4          Cash   \n",
      "4                No             10              0          Cash   \n",
      "\n",
      "   first_trip_tz                       most_impressing  \n",
      "0            Yes                              Wildlife  \n",
      "1             No  Wonderful Country, Landscape, Nature  \n",
      "2             No                           No comments  \n",
      "3            Yes                       Friendly People  \n",
      "4            Yes                       Friendly People  \n",
      "\n",
      "[5 rows x 22 columns]\n"
     ]
    }
   ],
   "source": [
    "\n",
    "print(Test.head())"
   ]
  },
  {
   "cell_type": "code",
   "execution_count": 8,
   "metadata": {},
   "outputs": [
    {
     "name": "stdout",
     "output_type": "stream",
     "text": [
      "(4809, 23)\n"
     ]
    }
   ],
   "source": [
    "\n",
    "#check the shape of the data\n",
    "print(Train.shape)"
   ]
  },
  {
   "cell_type": "code",
   "execution_count": 9,
   "metadata": {},
   "outputs": [
    {
     "name": "stdout",
     "output_type": "stream",
     "text": [
      "(1601, 22)\n"
     ]
    }
   ],
   "source": [
    "print(Test.shape)"
   ]
  }
 ],
 "metadata": {
  "kernelspec": {
   "display_name": "Python 3",
   "language": "python",
   "name": "python3"
  },
  "language_info": {
   "codemirror_mode": {
    "name": "ipython",
    "version": 3
   },
   "file_extension": ".py",
   "mimetype": "text/x-python",
   "name": "python",
   "nbconvert_exporter": "python",
   "pygments_lexer": "ipython3",
   "version": "3.11.5"
  }
 },
 "nbformat": 4,
 "nbformat_minor": 2
}
